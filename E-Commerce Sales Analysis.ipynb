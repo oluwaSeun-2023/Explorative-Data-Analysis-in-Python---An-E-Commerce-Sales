{
 "cells": [
  {
   "cell_type": "code",
   "execution_count": 1,
   "id": "ba053f22",
   "metadata": {},
   "outputs": [],
   "source": [
    "import pandas as pd\n",
    "import numpy as np\n",
    "import matplotlib.pyplot as plt\n",
    "import seaborn as sns\n",
    "import warnings\n",
    "warnings.filterwarnings('ignore')"
   ]
  },
  {
   "cell_type": "code",
   "execution_count": 2,
   "id": "1d3f03c2",
   "metadata": {},
   "outputs": [],
   "source": [
    "od=pd.read_csv('C:\\\\Users\\\\HP\\\\Documents\\\\Data Science\\\\Python\\\\E-Commerce_Orders.csv')"
   ]
  },
  {
   "cell_type": "code",
   "execution_count": 3,
   "id": "c343781e",
   "metadata": {},
   "outputs": [
    {
     "data": {
      "text/html": [
       "<div>\n",
       "<style scoped>\n",
       "    .dataframe tbody tr th:only-of-type {\n",
       "        vertical-align: middle;\n",
       "    }\n",
       "\n",
       "    .dataframe tbody tr th {\n",
       "        vertical-align: top;\n",
       "    }\n",
       "\n",
       "    .dataframe thead th {\n",
       "        text-align: right;\n",
       "    }\n",
       "</style>\n",
       "<table border=\"1\" class=\"dataframe\">\n",
       "  <thead>\n",
       "    <tr style=\"text-align: right;\">\n",
       "      <th></th>\n",
       "      <th>Customer ID</th>\n",
       "      <th>Order ID</th>\n",
       "      <th>Product</th>\n",
       "      <th>Units Sold</th>\n",
       "      <th>Date</th>\n",
       "      <th>Revenue</th>\n",
       "      <th>Cost</th>\n",
       "    </tr>\n",
       "  </thead>\n",
       "  <tbody>\n",
       "    <tr>\n",
       "      <th>0</th>\n",
       "      <td>3</td>\n",
       "      <td>266868</td>\n",
       "      <td>Chocolate Chip</td>\n",
       "      <td>292</td>\n",
       "      <td>2/1/2020</td>\n",
       "      <td>1460.0</td>\n",
       "      <td>584.00</td>\n",
       "    </tr>\n",
       "    <tr>\n",
       "      <th>1</th>\n",
       "      <td>3</td>\n",
       "      <td>140794</td>\n",
       "      <td>Chocolate Chip</td>\n",
       "      <td>974</td>\n",
       "      <td>2/1/2020</td>\n",
       "      <td>4870.0</td>\n",
       "      <td>1948.00</td>\n",
       "    </tr>\n",
       "    <tr>\n",
       "      <th>2</th>\n",
       "      <td>3</td>\n",
       "      <td>684759</td>\n",
       "      <td>Chocolate Chip</td>\n",
       "      <td>2,518</td>\n",
       "      <td>6/1/2020</td>\n",
       "      <td>12590.0</td>\n",
       "      <td>5036.00</td>\n",
       "    </tr>\n",
       "    <tr>\n",
       "      <th>3</th>\n",
       "      <td>4</td>\n",
       "      <td>640447</td>\n",
       "      <td>Chocolate Chip</td>\n",
       "      <td>1,006</td>\n",
       "      <td>6/1/2020</td>\n",
       "      <td>5030.0</td>\n",
       "      <td>2012.00</td>\n",
       "    </tr>\n",
       "    <tr>\n",
       "      <th>4</th>\n",
       "      <td>2</td>\n",
       "      <td>898637</td>\n",
       "      <td>Chocolate Chip</td>\n",
       "      <td>367</td>\n",
       "      <td>7/1/2020</td>\n",
       "      <td>1835.0</td>\n",
       "      <td>734.00</td>\n",
       "    </tr>\n",
       "    <tr>\n",
       "      <th>...</th>\n",
       "      <td>...</td>\n",
       "      <td>...</td>\n",
       "      <td>...</td>\n",
       "      <td>...</td>\n",
       "      <td>...</td>\n",
       "      <td>...</td>\n",
       "      <td>...</td>\n",
       "    </tr>\n",
       "    <tr>\n",
       "      <th>695</th>\n",
       "      <td>3</td>\n",
       "      <td>853295</td>\n",
       "      <td>White Chocolate Macadamia Nut</td>\n",
       "      <td>2,826</td>\n",
       "      <td>5/1/2020</td>\n",
       "      <td>16956.0</td>\n",
       "      <td>7771.50</td>\n",
       "    </tr>\n",
       "    <tr>\n",
       "      <th>696</th>\n",
       "      <td>2</td>\n",
       "      <td>253981</td>\n",
       "      <td>White Chocolate Macadamia Nut</td>\n",
       "      <td>663</td>\n",
       "      <td>9/1/2020</td>\n",
       "      <td>3978.0</td>\n",
       "      <td>1823.25</td>\n",
       "    </tr>\n",
       "    <tr>\n",
       "      <th>697</th>\n",
       "      <td>4</td>\n",
       "      <td>208456</td>\n",
       "      <td>White Chocolate Macadamia Nut</td>\n",
       "      <td>2,574</td>\n",
       "      <td>11/1/2019</td>\n",
       "      <td>15444.0</td>\n",
       "      <td>7078.50</td>\n",
       "    </tr>\n",
       "    <tr>\n",
       "      <th>698</th>\n",
       "      <td>4</td>\n",
       "      <td>727940</td>\n",
       "      <td>White Chocolate Macadamia Nut</td>\n",
       "      <td>2,438</td>\n",
       "      <td>12/1/2019</td>\n",
       "      <td>14628.0</td>\n",
       "      <td>6704.50</td>\n",
       "    </tr>\n",
       "    <tr>\n",
       "      <th>699</th>\n",
       "      <td>4</td>\n",
       "      <td>414628</td>\n",
       "      <td>White Chocolate Macadamia Nut</td>\n",
       "      <td>914</td>\n",
       "      <td>12/1/2020</td>\n",
       "      <td>5484.0</td>\n",
       "      <td>2513.50</td>\n",
       "    </tr>\n",
       "  </tbody>\n",
       "</table>\n",
       "<p>700 rows × 7 columns</p>\n",
       "</div>"
      ],
      "text/plain": [
       "     Customer ID  Order ID                        Product Units Sold  \\\n",
       "0              3    266868                 Chocolate Chip       292    \n",
       "1              3    140794                 Chocolate Chip       974    \n",
       "2              3    684759                 Chocolate Chip     2,518    \n",
       "3              4    640447                 Chocolate Chip     1,006    \n",
       "4              2    898637                 Chocolate Chip       367    \n",
       "..           ...       ...                            ...        ...   \n",
       "695            3    853295  White Chocolate Macadamia Nut     2,826    \n",
       "696            2    253981  White Chocolate Macadamia Nut       663    \n",
       "697            4    208456  White Chocolate Macadamia Nut     2,574    \n",
       "698            4    727940  White Chocolate Macadamia Nut     2,438    \n",
       "699            4    414628  White Chocolate Macadamia Nut       914    \n",
       "\n",
       "          Date  Revenue     Cost  \n",
       "0     2/1/2020   1460.0   584.00  \n",
       "1     2/1/2020   4870.0  1948.00  \n",
       "2     6/1/2020  12590.0  5036.00  \n",
       "3     6/1/2020   5030.0  2012.00  \n",
       "4     7/1/2020   1835.0   734.00  \n",
       "..         ...      ...      ...  \n",
       "695   5/1/2020  16956.0  7771.50  \n",
       "696   9/1/2020   3978.0  1823.25  \n",
       "697  11/1/2019  15444.0  7078.50  \n",
       "698  12/1/2019  14628.0  6704.50  \n",
       "699  12/1/2020   5484.0  2513.50  \n",
       "\n",
       "[700 rows x 7 columns]"
      ]
     },
     "execution_count": 3,
     "metadata": {},
     "output_type": "execute_result"
    }
   ],
   "source": [
    "od"
   ]
  },
  {
   "cell_type": "code",
   "execution_count": 4,
   "id": "b3703705",
   "metadata": {},
   "outputs": [
    {
     "data": {
      "text/plain": [
       "Index(['Customer ID', 'Order ID', 'Product', 'Units Sold', 'Date', 'Revenue',\n",
       "       'Cost'],\n",
       "      dtype='object')"
      ]
     },
     "execution_count": 4,
     "metadata": {},
     "output_type": "execute_result"
    }
   ],
   "source": [
    "od.columns"
   ]
  },
  {
   "cell_type": "code",
   "execution_count": 5,
   "id": "f61c9a2f",
   "metadata": {},
   "outputs": [
    {
     "data": {
      "text/plain": [
       "(700, 7)"
      ]
     },
     "execution_count": 5,
     "metadata": {},
     "output_type": "execute_result"
    }
   ],
   "source": [
    "od.shape"
   ]
  },
  {
   "cell_type": "code",
   "execution_count": 6,
   "id": "31d997dc",
   "metadata": {},
   "outputs": [
    {
     "data": {
      "text/plain": [
       "Customer ID      int64\n",
       "Order ID         int64\n",
       "Product         object\n",
       "Units Sold      object\n",
       "Date            object\n",
       "Revenue        float64\n",
       "Cost           float64\n",
       "dtype: object"
      ]
     },
     "execution_count": 6,
     "metadata": {},
     "output_type": "execute_result"
    }
   ],
   "source": [
    "od.dtypes"
   ]
  },
  {
   "cell_type": "code",
   "execution_count": 7,
   "id": "79a9d8c5",
   "metadata": {},
   "outputs": [
    {
     "data": {
      "text/plain": [
       "0      False\n",
       "1      False\n",
       "2      False\n",
       "3      False\n",
       "4      False\n",
       "       ...  \n",
       "695    False\n",
       "696    False\n",
       "697    False\n",
       "698    False\n",
       "699    False\n",
       "Length: 700, dtype: bool"
      ]
     },
     "execution_count": 7,
     "metadata": {},
     "output_type": "execute_result"
    }
   ],
   "source": [
    "od.duplicated()"
   ]
  },
  {
   "cell_type": "code",
   "execution_count": 8,
   "id": "93e8a299",
   "metadata": {},
   "outputs": [
    {
     "data": {
      "text/plain": [
       "Customer ID    0\n",
       "Order ID       0\n",
       "Product        0\n",
       "Units Sold     0\n",
       "Date           0\n",
       "Revenue        0\n",
       "Cost           0\n",
       "dtype: int64"
      ]
     },
     "execution_count": 8,
     "metadata": {},
     "output_type": "execute_result"
    }
   ],
   "source": [
    "od.isnull().sum()"
   ]
  },
  {
   "cell_type": "code",
   "execution_count": 9,
   "id": "c4253e08",
   "metadata": {},
   "outputs": [],
   "source": [
    "od['Units Sold']=od['Units Sold'].str.replace(',', '').astype(float)"
   ]
  },
  {
   "cell_type": "code",
   "execution_count": 10,
   "id": "fcaac604",
   "metadata": {},
   "outputs": [
    {
     "data": {
      "text/html": [
       "<div>\n",
       "<style scoped>\n",
       "    .dataframe tbody tr th:only-of-type {\n",
       "        vertical-align: middle;\n",
       "    }\n",
       "\n",
       "    .dataframe tbody tr th {\n",
       "        vertical-align: top;\n",
       "    }\n",
       "\n",
       "    .dataframe thead th {\n",
       "        text-align: right;\n",
       "    }\n",
       "</style>\n",
       "<table border=\"1\" class=\"dataframe\">\n",
       "  <thead>\n",
       "    <tr style=\"text-align: right;\">\n",
       "      <th></th>\n",
       "      <th>Customer ID</th>\n",
       "      <th>Order ID</th>\n",
       "      <th>Product</th>\n",
       "      <th>Units Sold</th>\n",
       "      <th>Date</th>\n",
       "      <th>Revenue</th>\n",
       "      <th>Cost</th>\n",
       "    </tr>\n",
       "  </thead>\n",
       "  <tbody>\n",
       "    <tr>\n",
       "      <th>0</th>\n",
       "      <td>3</td>\n",
       "      <td>266868</td>\n",
       "      <td>Chocolate Chip</td>\n",
       "      <td>292.0</td>\n",
       "      <td>2/1/2020</td>\n",
       "      <td>1460.0</td>\n",
       "      <td>584.0</td>\n",
       "    </tr>\n",
       "    <tr>\n",
       "      <th>1</th>\n",
       "      <td>3</td>\n",
       "      <td>140794</td>\n",
       "      <td>Chocolate Chip</td>\n",
       "      <td>974.0</td>\n",
       "      <td>2/1/2020</td>\n",
       "      <td>4870.0</td>\n",
       "      <td>1948.0</td>\n",
       "    </tr>\n",
       "    <tr>\n",
       "      <th>2</th>\n",
       "      <td>3</td>\n",
       "      <td>684759</td>\n",
       "      <td>Chocolate Chip</td>\n",
       "      <td>2518.0</td>\n",
       "      <td>6/1/2020</td>\n",
       "      <td>12590.0</td>\n",
       "      <td>5036.0</td>\n",
       "    </tr>\n",
       "    <tr>\n",
       "      <th>3</th>\n",
       "      <td>4</td>\n",
       "      <td>640447</td>\n",
       "      <td>Chocolate Chip</td>\n",
       "      <td>1006.0</td>\n",
       "      <td>6/1/2020</td>\n",
       "      <td>5030.0</td>\n",
       "      <td>2012.0</td>\n",
       "    </tr>\n",
       "    <tr>\n",
       "      <th>4</th>\n",
       "      <td>2</td>\n",
       "      <td>898637</td>\n",
       "      <td>Chocolate Chip</td>\n",
       "      <td>367.0</td>\n",
       "      <td>7/1/2020</td>\n",
       "      <td>1835.0</td>\n",
       "      <td>734.0</td>\n",
       "    </tr>\n",
       "  </tbody>\n",
       "</table>\n",
       "</div>"
      ],
      "text/plain": [
       "   Customer ID  Order ID         Product  Units Sold      Date  Revenue  \\\n",
       "0            3    266868  Chocolate Chip       292.0  2/1/2020   1460.0   \n",
       "1            3    140794  Chocolate Chip       974.0  2/1/2020   4870.0   \n",
       "2            3    684759  Chocolate Chip      2518.0  6/1/2020  12590.0   \n",
       "3            4    640447  Chocolate Chip      1006.0  6/1/2020   5030.0   \n",
       "4            2    898637  Chocolate Chip       367.0  7/1/2020   1835.0   \n",
       "\n",
       "     Cost  \n",
       "0   584.0  \n",
       "1  1948.0  \n",
       "2  5036.0  \n",
       "3  2012.0  \n",
       "4   734.0  "
      ]
     },
     "execution_count": 10,
     "metadata": {},
     "output_type": "execute_result"
    }
   ],
   "source": [
    "od.head()"
   ]
  },
  {
   "cell_type": "code",
   "execution_count": 11,
   "id": "0cb8057c",
   "metadata": {},
   "outputs": [],
   "source": [
    "#Removing outliers based on the IQR method for numeric columns\n",
    "numeric_cols=['Customer ID', 'Order ID', 'Product', 'Units Sold', 'Date', 'Revenue',\n",
    "       'Cost']"
   ]
  },
  {
   "cell_type": "code",
   "execution_count": 12,
   "id": "a8dd3138",
   "metadata": {},
   "outputs": [],
   "source": [
    "Q1 = od[numeric_cols].quantile(0.25)\n",
    "Q3 = od[numeric_cols].quantile(0.75) \n",
    "IQR= Q3-Q1"
   ]
  },
  {
   "cell_type": "code",
   "execution_count": 13,
   "id": "edb6b83b",
   "metadata": {},
   "outputs": [
    {
     "data": {
      "text/plain": [
       "Customer ID         2.000\n",
       "Order ID       296211.500\n",
       "Units Sold        905.000\n",
       "Revenue          2854.000\n",
       "Cost             1234.375\n",
       "Name: 0.25, dtype: float64"
      ]
     },
     "execution_count": 13,
     "metadata": {},
     "output_type": "execute_result"
    }
   ],
   "source": [
    "Q1"
   ]
  },
  {
   "cell_type": "code",
   "execution_count": 14,
   "id": "bc55b0a7",
   "metadata": {},
   "outputs": [
    {
     "data": {
      "text/plain": [
       "Customer ID         4.00\n",
       "Order ID       710704.25\n",
       "Units Sold       2229.50\n",
       "Revenue          9580.00\n",
       "Cost             3925.70\n",
       "Name: 0.75, dtype: float64"
      ]
     },
     "execution_count": 14,
     "metadata": {},
     "output_type": "execute_result"
    }
   ],
   "source": [
    "Q3"
   ]
  },
  {
   "cell_type": "code",
   "execution_count": 15,
   "id": "0da06e58",
   "metadata": {},
   "outputs": [
    {
     "data": {
      "text/plain": [
       "Customer ID         2.000\n",
       "Order ID       414492.750\n",
       "Units Sold       1324.500\n",
       "Revenue          6726.000\n",
       "Cost             2691.325\n",
       "dtype: float64"
      ]
     },
     "execution_count": 15,
     "metadata": {},
     "output_type": "execute_result"
    }
   ],
   "source": [
    "IQR"
   ]
  },
  {
   "cell_type": "code",
   "execution_count": 16,
   "id": "304a91db",
   "metadata": {},
   "outputs": [],
   "source": [
    "#Defining a threshold to identify outliers\n",
    "threshold=1.5"
   ]
  },
  {
   "cell_type": "code",
   "execution_count": 17,
   "id": "96328af7",
   "metadata": {},
   "outputs": [],
   "source": [
    "outlier_mask=((od[numeric_cols]<(Q1 - threshold*IQR)) | (od[numeric_cols]>(Q3+threshold*IQR))).any(axis=1)"
   ]
  },
  {
   "cell_type": "code",
   "execution_count": 18,
   "id": "bbf435f6",
   "metadata": {},
   "outputs": [
    {
     "data": {
      "text/plain": [
       "0     False\n",
       "1     False\n",
       "2     False\n",
       "3     False\n",
       "4     False\n",
       "5     False\n",
       "6     False\n",
       "7     False\n",
       "8     False\n",
       "9     False\n",
       "10    False\n",
       "11    False\n",
       "12    False\n",
       "13    False\n",
       "14    False\n",
       "15     True\n",
       "16    False\n",
       "17    False\n",
       "18    False\n",
       "19     True\n",
       "dtype: bool"
      ]
     },
     "execution_count": 18,
     "metadata": {},
     "output_type": "execute_result"
    }
   ],
   "source": [
    "outlier_mask.iloc[:20]"
   ]
  },
  {
   "cell_type": "code",
   "execution_count": 19,
   "id": "2a9e7f01",
   "metadata": {},
   "outputs": [],
   "source": [
    "od_cleaned=od[~outlier_mask]"
   ]
  },
  {
   "cell_type": "code",
   "execution_count": 20,
   "id": "ec9e849a",
   "metadata": {},
   "outputs": [
    {
     "data": {
      "text/plain": [
       "(688, 7)"
      ]
     },
     "execution_count": 20,
     "metadata": {},
     "output_type": "execute_result"
    }
   ],
   "source": [
    "od_cleaned.shape"
   ]
  },
  {
   "cell_type": "code",
   "execution_count": 21,
   "id": "6ad91e44",
   "metadata": {},
   "outputs": [
    {
     "data": {
      "text/html": [
       "<div>\n",
       "<style scoped>\n",
       "    .dataframe tbody tr th:only-of-type {\n",
       "        vertical-align: middle;\n",
       "    }\n",
       "\n",
       "    .dataframe tbody tr th {\n",
       "        vertical-align: top;\n",
       "    }\n",
       "\n",
       "    .dataframe thead th {\n",
       "        text-align: right;\n",
       "    }\n",
       "</style>\n",
       "<table border=\"1\" class=\"dataframe\">\n",
       "  <thead>\n",
       "    <tr style=\"text-align: right;\">\n",
       "      <th></th>\n",
       "      <th>Customer ID</th>\n",
       "      <th>Order ID</th>\n",
       "      <th>Product</th>\n",
       "      <th>Units Sold</th>\n",
       "      <th>Date</th>\n",
       "      <th>Revenue</th>\n",
       "      <th>Cost</th>\n",
       "    </tr>\n",
       "  </thead>\n",
       "  <tbody>\n",
       "    <tr>\n",
       "      <th>0</th>\n",
       "      <td>3</td>\n",
       "      <td>266868</td>\n",
       "      <td>Chocolate Chip</td>\n",
       "      <td>292.0</td>\n",
       "      <td>2/1/2020</td>\n",
       "      <td>1460.0</td>\n",
       "      <td>584.0</td>\n",
       "    </tr>\n",
       "    <tr>\n",
       "      <th>1</th>\n",
       "      <td>3</td>\n",
       "      <td>140794</td>\n",
       "      <td>Chocolate Chip</td>\n",
       "      <td>974.0</td>\n",
       "      <td>2/1/2020</td>\n",
       "      <td>4870.0</td>\n",
       "      <td>1948.0</td>\n",
       "    </tr>\n",
       "    <tr>\n",
       "      <th>2</th>\n",
       "      <td>3</td>\n",
       "      <td>684759</td>\n",
       "      <td>Chocolate Chip</td>\n",
       "      <td>2518.0</td>\n",
       "      <td>6/1/2020</td>\n",
       "      <td>12590.0</td>\n",
       "      <td>5036.0</td>\n",
       "    </tr>\n",
       "    <tr>\n",
       "      <th>3</th>\n",
       "      <td>4</td>\n",
       "      <td>640447</td>\n",
       "      <td>Chocolate Chip</td>\n",
       "      <td>1006.0</td>\n",
       "      <td>6/1/2020</td>\n",
       "      <td>5030.0</td>\n",
       "      <td>2012.0</td>\n",
       "    </tr>\n",
       "    <tr>\n",
       "      <th>4</th>\n",
       "      <td>2</td>\n",
       "      <td>898637</td>\n",
       "      <td>Chocolate Chip</td>\n",
       "      <td>367.0</td>\n",
       "      <td>7/1/2020</td>\n",
       "      <td>1835.0</td>\n",
       "      <td>734.0</td>\n",
       "    </tr>\n",
       "  </tbody>\n",
       "</table>\n",
       "</div>"
      ],
      "text/plain": [
       "   Customer ID  Order ID         Product  Units Sold      Date  Revenue  \\\n",
       "0            3    266868  Chocolate Chip       292.0  2/1/2020   1460.0   \n",
       "1            3    140794  Chocolate Chip       974.0  2/1/2020   4870.0   \n",
       "2            3    684759  Chocolate Chip      2518.0  6/1/2020  12590.0   \n",
       "3            4    640447  Chocolate Chip      1006.0  6/1/2020   5030.0   \n",
       "4            2    898637  Chocolate Chip       367.0  7/1/2020   1835.0   \n",
       "\n",
       "     Cost  \n",
       "0   584.0  \n",
       "1  1948.0  \n",
       "2  5036.0  \n",
       "3  2012.0  \n",
       "4   734.0  "
      ]
     },
     "execution_count": 21,
     "metadata": {},
     "output_type": "execute_result"
    }
   ],
   "source": [
    "od.head()"
   ]
  },
  {
   "cell_type": "code",
   "execution_count": 22,
   "id": "7ff9e654",
   "metadata": {},
   "outputs": [],
   "source": [
    "#To group the data by the \"product\" column\n",
    "product_group = od.groupby('Product')"
   ]
  },
  {
   "cell_type": "code",
   "execution_count": 23,
   "id": "7bc86603",
   "metadata": {},
   "outputs": [],
   "source": [
    "product_summary = product_group.agg({\n",
    "    'Units Sold' : 'sum',\n",
    "    'Revenue': 'sum',\n",
    "    'Cost': 'sum'})"
   ]
  },
  {
   "cell_type": "code",
   "execution_count": 24,
   "id": "95a94379",
   "metadata": {},
   "outputs": [
    {
     "data": {
      "text/html": [
       "<div>\n",
       "<style scoped>\n",
       "    .dataframe tbody tr th:only-of-type {\n",
       "        vertical-align: middle;\n",
       "    }\n",
       "\n",
       "    .dataframe tbody tr th {\n",
       "        vertical-align: top;\n",
       "    }\n",
       "\n",
       "    .dataframe thead th {\n",
       "        text-align: right;\n",
       "    }\n",
       "</style>\n",
       "<table border=\"1\" class=\"dataframe\">\n",
       "  <thead>\n",
       "    <tr style=\"text-align: right;\">\n",
       "      <th></th>\n",
       "      <th>Units Sold</th>\n",
       "      <th>Revenue</th>\n",
       "      <th>Cost</th>\n",
       "    </tr>\n",
       "    <tr>\n",
       "      <th>Product</th>\n",
       "      <th></th>\n",
       "      <th></th>\n",
       "      <th></th>\n",
       "    </tr>\n",
       "  </thead>\n",
       "  <tbody>\n",
       "    <tr>\n",
       "      <th>Chocolate Chip</th>\n",
       "      <td>338243.0</td>\n",
       "      <td>1691197.5</td>\n",
       "      <td>676479.000</td>\n",
       "    </tr>\n",
       "    <tr>\n",
       "      <th>Fortune Cookie</th>\n",
       "      <td>154201.0</td>\n",
       "      <td>154198.0</td>\n",
       "      <td>77099.000</td>\n",
       "    </tr>\n",
       "    <tr>\n",
       "      <th>Oatmeal Raisin</th>\n",
       "      <td>155318.0</td>\n",
       "      <td>776575.0</td>\n",
       "      <td>341693.000</td>\n",
       "    </tr>\n",
       "    <tr>\n",
       "      <th>Snickerdoodle</th>\n",
       "      <td>146849.0</td>\n",
       "      <td>587384.0</td>\n",
       "      <td>220269.000</td>\n",
       "    </tr>\n",
       "    <tr>\n",
       "      <th>Sugar</th>\n",
       "      <td>168787.0</td>\n",
       "      <td>506349.0</td>\n",
       "      <td>210978.750</td>\n",
       "    </tr>\n",
       "    <tr>\n",
       "      <th>White Chocolate Macadamia Nut</th>\n",
       "      <td>162426.0</td>\n",
       "      <td>974547.0</td>\n",
       "      <td>446667.375</td>\n",
       "    </tr>\n",
       "  </tbody>\n",
       "</table>\n",
       "</div>"
      ],
      "text/plain": [
       "                               Units Sold    Revenue        Cost\n",
       "Product                                                         \n",
       "Chocolate Chip                   338243.0  1691197.5  676479.000\n",
       "Fortune Cookie                   154201.0   154198.0   77099.000\n",
       "Oatmeal Raisin                   155318.0   776575.0  341693.000\n",
       "Snickerdoodle                    146849.0   587384.0  220269.000\n",
       "Sugar                            168787.0   506349.0  210978.750\n",
       "White Chocolate Macadamia Nut    162426.0   974547.0  446667.375"
      ]
     },
     "execution_count": 24,
     "metadata": {},
     "output_type": "execute_result"
    }
   ],
   "source": [
    "product_summary"
   ]
  },
  {
   "cell_type": "code",
   "execution_count": 25,
   "id": "87cf37d6",
   "metadata": {},
   "outputs": [],
   "source": [
    "#To calculate profit margin in percentage\n",
    "product_summary['Profit Margin'] = ((product_summary['Revenue'] - product_summary['Cost']) / product_summary['Revenue']) * 100"
   ]
  },
  {
   "cell_type": "code",
   "execution_count": 26,
   "id": "c2b62df1",
   "metadata": {},
   "outputs": [
    {
     "data": {
      "text/plain": [
       "Product\n",
       "Chocolate Chip                   60.000000\n",
       "Fortune Cookie                   50.000000\n",
       "Oatmeal Raisin                   56.000000\n",
       "Snickerdoodle                    62.500000\n",
       "Sugar                            58.333333\n",
       "White Chocolate Macadamia Nut    54.166667\n",
       "Name: Profit Margin, dtype: float64"
      ]
     },
     "execution_count": 26,
     "metadata": {},
     "output_type": "execute_result"
    }
   ],
   "source": [
    "product_summary['Profit Margin'] "
   ]
  },
  {
   "cell_type": "code",
   "execution_count": 27,
   "id": "263804e6",
   "metadata": {},
   "outputs": [],
   "source": [
    "#Sorting the products by revenue and units sold to find the best sellers\n",
    "best_sellers_by_revenue = product_summary.sort_values(by='Revenue', ascending=False)\n",
    "best_sellers_by_units_sold = product_summary.sort_values(by='Units Sold', ascending=False)"
   ]
  },
  {
   "cell_type": "code",
   "execution_count": 28,
   "id": "8ebd2193",
   "metadata": {},
   "outputs": [
    {
     "data": {
      "text/html": [
       "<div>\n",
       "<style scoped>\n",
       "    .dataframe tbody tr th:only-of-type {\n",
       "        vertical-align: middle;\n",
       "    }\n",
       "\n",
       "    .dataframe tbody tr th {\n",
       "        vertical-align: top;\n",
       "    }\n",
       "\n",
       "    .dataframe thead th {\n",
       "        text-align: right;\n",
       "    }\n",
       "</style>\n",
       "<table border=\"1\" class=\"dataframe\">\n",
       "  <thead>\n",
       "    <tr style=\"text-align: right;\">\n",
       "      <th></th>\n",
       "      <th>Units Sold</th>\n",
       "      <th>Revenue</th>\n",
       "      <th>Cost</th>\n",
       "      <th>Profit Margin</th>\n",
       "    </tr>\n",
       "    <tr>\n",
       "      <th>Product</th>\n",
       "      <th></th>\n",
       "      <th></th>\n",
       "      <th></th>\n",
       "      <th></th>\n",
       "    </tr>\n",
       "  </thead>\n",
       "  <tbody>\n",
       "    <tr>\n",
       "      <th>Chocolate Chip</th>\n",
       "      <td>338243.0</td>\n",
       "      <td>1691197.5</td>\n",
       "      <td>676479.000</td>\n",
       "      <td>60.000000</td>\n",
       "    </tr>\n",
       "    <tr>\n",
       "      <th>White Chocolate Macadamia Nut</th>\n",
       "      <td>162426.0</td>\n",
       "      <td>974547.0</td>\n",
       "      <td>446667.375</td>\n",
       "      <td>54.166667</td>\n",
       "    </tr>\n",
       "    <tr>\n",
       "      <th>Oatmeal Raisin</th>\n",
       "      <td>155318.0</td>\n",
       "      <td>776575.0</td>\n",
       "      <td>341693.000</td>\n",
       "      <td>56.000000</td>\n",
       "    </tr>\n",
       "    <tr>\n",
       "      <th>Snickerdoodle</th>\n",
       "      <td>146849.0</td>\n",
       "      <td>587384.0</td>\n",
       "      <td>220269.000</td>\n",
       "      <td>62.500000</td>\n",
       "    </tr>\n",
       "    <tr>\n",
       "      <th>Sugar</th>\n",
       "      <td>168787.0</td>\n",
       "      <td>506349.0</td>\n",
       "      <td>210978.750</td>\n",
       "      <td>58.333333</td>\n",
       "    </tr>\n",
       "    <tr>\n",
       "      <th>Fortune Cookie</th>\n",
       "      <td>154201.0</td>\n",
       "      <td>154198.0</td>\n",
       "      <td>77099.000</td>\n",
       "      <td>50.000000</td>\n",
       "    </tr>\n",
       "  </tbody>\n",
       "</table>\n",
       "</div>"
      ],
      "text/plain": [
       "                               Units Sold    Revenue        Cost  \\\n",
       "Product                                                            \n",
       "Chocolate Chip                   338243.0  1691197.5  676479.000   \n",
       "White Chocolate Macadamia Nut    162426.0   974547.0  446667.375   \n",
       "Oatmeal Raisin                   155318.0   776575.0  341693.000   \n",
       "Snickerdoodle                    146849.0   587384.0  220269.000   \n",
       "Sugar                            168787.0   506349.0  210978.750   \n",
       "Fortune Cookie                   154201.0   154198.0   77099.000   \n",
       "\n",
       "                               Profit Margin  \n",
       "Product                                       \n",
       "Chocolate Chip                     60.000000  \n",
       "White Chocolate Macadamia Nut      54.166667  \n",
       "Oatmeal Raisin                     56.000000  \n",
       "Snickerdoodle                      62.500000  \n",
       "Sugar                              58.333333  \n",
       "Fortune Cookie                     50.000000  "
      ]
     },
     "execution_count": 28,
     "metadata": {},
     "output_type": "execute_result"
    }
   ],
   "source": [
    "best_sellers_by_revenue"
   ]
  },
  {
   "cell_type": "code",
   "execution_count": 29,
   "id": "5bd699d1",
   "metadata": {},
   "outputs": [
    {
     "data": {
      "text/html": [
       "<div>\n",
       "<style scoped>\n",
       "    .dataframe tbody tr th:only-of-type {\n",
       "        vertical-align: middle;\n",
       "    }\n",
       "\n",
       "    .dataframe tbody tr th {\n",
       "        vertical-align: top;\n",
       "    }\n",
       "\n",
       "    .dataframe thead th {\n",
       "        text-align: right;\n",
       "    }\n",
       "</style>\n",
       "<table border=\"1\" class=\"dataframe\">\n",
       "  <thead>\n",
       "    <tr style=\"text-align: right;\">\n",
       "      <th></th>\n",
       "      <th>Units Sold</th>\n",
       "      <th>Revenue</th>\n",
       "      <th>Cost</th>\n",
       "      <th>Profit Margin</th>\n",
       "    </tr>\n",
       "    <tr>\n",
       "      <th>Product</th>\n",
       "      <th></th>\n",
       "      <th></th>\n",
       "      <th></th>\n",
       "      <th></th>\n",
       "    </tr>\n",
       "  </thead>\n",
       "  <tbody>\n",
       "    <tr>\n",
       "      <th>Chocolate Chip</th>\n",
       "      <td>338243.0</td>\n",
       "      <td>1691197.5</td>\n",
       "      <td>676479.000</td>\n",
       "      <td>60.000000</td>\n",
       "    </tr>\n",
       "    <tr>\n",
       "      <th>Sugar</th>\n",
       "      <td>168787.0</td>\n",
       "      <td>506349.0</td>\n",
       "      <td>210978.750</td>\n",
       "      <td>58.333333</td>\n",
       "    </tr>\n",
       "    <tr>\n",
       "      <th>White Chocolate Macadamia Nut</th>\n",
       "      <td>162426.0</td>\n",
       "      <td>974547.0</td>\n",
       "      <td>446667.375</td>\n",
       "      <td>54.166667</td>\n",
       "    </tr>\n",
       "    <tr>\n",
       "      <th>Oatmeal Raisin</th>\n",
       "      <td>155318.0</td>\n",
       "      <td>776575.0</td>\n",
       "      <td>341693.000</td>\n",
       "      <td>56.000000</td>\n",
       "    </tr>\n",
       "    <tr>\n",
       "      <th>Fortune Cookie</th>\n",
       "      <td>154201.0</td>\n",
       "      <td>154198.0</td>\n",
       "      <td>77099.000</td>\n",
       "      <td>50.000000</td>\n",
       "    </tr>\n",
       "    <tr>\n",
       "      <th>Snickerdoodle</th>\n",
       "      <td>146849.0</td>\n",
       "      <td>587384.0</td>\n",
       "      <td>220269.000</td>\n",
       "      <td>62.500000</td>\n",
       "    </tr>\n",
       "  </tbody>\n",
       "</table>\n",
       "</div>"
      ],
      "text/plain": [
       "                               Units Sold    Revenue        Cost  \\\n",
       "Product                                                            \n",
       "Chocolate Chip                   338243.0  1691197.5  676479.000   \n",
       "Sugar                            168787.0   506349.0  210978.750   \n",
       "White Chocolate Macadamia Nut    162426.0   974547.0  446667.375   \n",
       "Oatmeal Raisin                   155318.0   776575.0  341693.000   \n",
       "Fortune Cookie                   154201.0   154198.0   77099.000   \n",
       "Snickerdoodle                    146849.0   587384.0  220269.000   \n",
       "\n",
       "                               Profit Margin  \n",
       "Product                                       \n",
       "Chocolate Chip                     60.000000  \n",
       "Sugar                              58.333333  \n",
       "White Chocolate Macadamia Nut      54.166667  \n",
       "Oatmeal Raisin                     56.000000  \n",
       "Fortune Cookie                     50.000000  \n",
       "Snickerdoodle                      62.500000  "
      ]
     },
     "execution_count": 29,
     "metadata": {},
     "output_type": "execute_result"
    }
   ],
   "source": [
    "best_sellers_by_units_sold"
   ]
  },
  {
   "cell_type": "code",
   "execution_count": 30,
   "id": "ba27a682",
   "metadata": {},
   "outputs": [
    {
     "data": {
      "text/html": [
       "<div>\n",
       "<style scoped>\n",
       "    .dataframe tbody tr th:only-of-type {\n",
       "        vertical-align: middle;\n",
       "    }\n",
       "\n",
       "    .dataframe tbody tr th {\n",
       "        vertical-align: top;\n",
       "    }\n",
       "\n",
       "    .dataframe thead th {\n",
       "        text-align: right;\n",
       "    }\n",
       "</style>\n",
       "<table border=\"1\" class=\"dataframe\">\n",
       "  <thead>\n",
       "    <tr style=\"text-align: right;\">\n",
       "      <th></th>\n",
       "      <th>Customer ID</th>\n",
       "      <th>Order ID</th>\n",
       "      <th>Product</th>\n",
       "      <th>Units Sold</th>\n",
       "      <th>Date</th>\n",
       "      <th>Revenue</th>\n",
       "      <th>Cost</th>\n",
       "    </tr>\n",
       "  </thead>\n",
       "  <tbody>\n",
       "    <tr>\n",
       "      <th>0</th>\n",
       "      <td>3</td>\n",
       "      <td>266868</td>\n",
       "      <td>Chocolate Chip</td>\n",
       "      <td>292.0</td>\n",
       "      <td>2/1/2020</td>\n",
       "      <td>1460.0</td>\n",
       "      <td>584.00</td>\n",
       "    </tr>\n",
       "    <tr>\n",
       "      <th>1</th>\n",
       "      <td>3</td>\n",
       "      <td>140794</td>\n",
       "      <td>Chocolate Chip</td>\n",
       "      <td>974.0</td>\n",
       "      <td>2/1/2020</td>\n",
       "      <td>4870.0</td>\n",
       "      <td>1948.00</td>\n",
       "    </tr>\n",
       "    <tr>\n",
       "      <th>2</th>\n",
       "      <td>3</td>\n",
       "      <td>684759</td>\n",
       "      <td>Chocolate Chip</td>\n",
       "      <td>2518.0</td>\n",
       "      <td>6/1/2020</td>\n",
       "      <td>12590.0</td>\n",
       "      <td>5036.00</td>\n",
       "    </tr>\n",
       "    <tr>\n",
       "      <th>3</th>\n",
       "      <td>4</td>\n",
       "      <td>640447</td>\n",
       "      <td>Chocolate Chip</td>\n",
       "      <td>1006.0</td>\n",
       "      <td>6/1/2020</td>\n",
       "      <td>5030.0</td>\n",
       "      <td>2012.00</td>\n",
       "    </tr>\n",
       "    <tr>\n",
       "      <th>4</th>\n",
       "      <td>2</td>\n",
       "      <td>898637</td>\n",
       "      <td>Chocolate Chip</td>\n",
       "      <td>367.0</td>\n",
       "      <td>7/1/2020</td>\n",
       "      <td>1835.0</td>\n",
       "      <td>734.00</td>\n",
       "    </tr>\n",
       "    <tr>\n",
       "      <th>...</th>\n",
       "      <td>...</td>\n",
       "      <td>...</td>\n",
       "      <td>...</td>\n",
       "      <td>...</td>\n",
       "      <td>...</td>\n",
       "      <td>...</td>\n",
       "      <td>...</td>\n",
       "    </tr>\n",
       "    <tr>\n",
       "      <th>695</th>\n",
       "      <td>3</td>\n",
       "      <td>853295</td>\n",
       "      <td>White Chocolate Macadamia Nut</td>\n",
       "      <td>2826.0</td>\n",
       "      <td>5/1/2020</td>\n",
       "      <td>16956.0</td>\n",
       "      <td>7771.50</td>\n",
       "    </tr>\n",
       "    <tr>\n",
       "      <th>696</th>\n",
       "      <td>2</td>\n",
       "      <td>253981</td>\n",
       "      <td>White Chocolate Macadamia Nut</td>\n",
       "      <td>663.0</td>\n",
       "      <td>9/1/2020</td>\n",
       "      <td>3978.0</td>\n",
       "      <td>1823.25</td>\n",
       "    </tr>\n",
       "    <tr>\n",
       "      <th>697</th>\n",
       "      <td>4</td>\n",
       "      <td>208456</td>\n",
       "      <td>White Chocolate Macadamia Nut</td>\n",
       "      <td>2574.0</td>\n",
       "      <td>11/1/2019</td>\n",
       "      <td>15444.0</td>\n",
       "      <td>7078.50</td>\n",
       "    </tr>\n",
       "    <tr>\n",
       "      <th>698</th>\n",
       "      <td>4</td>\n",
       "      <td>727940</td>\n",
       "      <td>White Chocolate Macadamia Nut</td>\n",
       "      <td>2438.0</td>\n",
       "      <td>12/1/2019</td>\n",
       "      <td>14628.0</td>\n",
       "      <td>6704.50</td>\n",
       "    </tr>\n",
       "    <tr>\n",
       "      <th>699</th>\n",
       "      <td>4</td>\n",
       "      <td>414628</td>\n",
       "      <td>White Chocolate Macadamia Nut</td>\n",
       "      <td>914.0</td>\n",
       "      <td>12/1/2020</td>\n",
       "      <td>5484.0</td>\n",
       "      <td>2513.50</td>\n",
       "    </tr>\n",
       "  </tbody>\n",
       "</table>\n",
       "<p>700 rows × 7 columns</p>\n",
       "</div>"
      ],
      "text/plain": [
       "     Customer ID  Order ID                        Product  Units Sold  \\\n",
       "0              3    266868                 Chocolate Chip       292.0   \n",
       "1              3    140794                 Chocolate Chip       974.0   \n",
       "2              3    684759                 Chocolate Chip      2518.0   \n",
       "3              4    640447                 Chocolate Chip      1006.0   \n",
       "4              2    898637                 Chocolate Chip       367.0   \n",
       "..           ...       ...                            ...         ...   \n",
       "695            3    853295  White Chocolate Macadamia Nut      2826.0   \n",
       "696            2    253981  White Chocolate Macadamia Nut       663.0   \n",
       "697            4    208456  White Chocolate Macadamia Nut      2574.0   \n",
       "698            4    727940  White Chocolate Macadamia Nut      2438.0   \n",
       "699            4    414628  White Chocolate Macadamia Nut       914.0   \n",
       "\n",
       "          Date  Revenue     Cost  \n",
       "0     2/1/2020   1460.0   584.00  \n",
       "1     2/1/2020   4870.0  1948.00  \n",
       "2     6/1/2020  12590.0  5036.00  \n",
       "3     6/1/2020   5030.0  2012.00  \n",
       "4     7/1/2020   1835.0   734.00  \n",
       "..         ...      ...      ...  \n",
       "695   5/1/2020  16956.0  7771.50  \n",
       "696   9/1/2020   3978.0  1823.25  \n",
       "697  11/1/2019  15444.0  7078.50  \n",
       "698  12/1/2019  14628.0  6704.50  \n",
       "699  12/1/2020   5484.0  2513.50  \n",
       "\n",
       "[700 rows x 7 columns]"
      ]
     },
     "execution_count": 30,
     "metadata": {},
     "output_type": "execute_result"
    }
   ],
   "source": [
    "od"
   ]
  },
  {
   "cell_type": "code",
   "execution_count": 31,
   "id": "602b2943",
   "metadata": {},
   "outputs": [
    {
     "data": {
      "text/plain": [
       "array(['Chocolate Chip', 'Fortune Cookie', 'Oatmeal Raisin',\n",
       "       'Snickerdoodle', 'Sugar', 'White Chocolate Macadamia Nut'],\n",
       "      dtype=object)"
      ]
     },
     "execution_count": 31,
     "metadata": {},
     "output_type": "execute_result"
    }
   ],
   "source": [
    "od['Product'].unique()"
   ]
  },
  {
   "cell_type": "code",
   "execution_count": 32,
   "id": "1158901c",
   "metadata": {},
   "outputs": [
    {
     "data": {
      "image/png": "[encoded data removed]",
      "text/plain": [
       "<Figure size 1200x1200 with 1 Axes>"
      ]
     },
     "metadata": {},
     "output_type": "display_data"
    }
   ],
   "source": [
    "#Explorative Data Analysis Using Matplotlib - Pie Chart\n",
    "plt.figure(figsize=(12,12))\n",
    "plt.pie(od['Product'].value_counts(), labels=['Chocolate Chip', 'Fortune Cookie', 'Oatmeal Raisin',\n",
    "       'Snickerdoodle', 'Sugar', 'White Chocolate Macadamia Nut'], autopct='%1.1f%%')\n",
    "plt.title('Distribution of Products')\n",
    "plt.legend(loc='lower right')\n",
    "\n",
    "plt.show()"
   ]
  },
  {
   "cell_type": "code",
   "execution_count": 33,
   "id": "e20f47e3",
   "metadata": {},
   "outputs": [
    {
     "data": {
      "text/plain": [
       "Text(0.5, 1.0, 'Count Plot of Products')"
      ]
     },
     "execution_count": 33,
     "metadata": {},
     "output_type": "execute_result"
    },
    {
     "data": {
      "image/png": "[encoded data removed]",
      "text/plain": [
       "<Figure size 640x480 with 1 Axes>"
      ]
     },
     "metadata": {},
     "output_type": "display_data"
    }
   ],
   "source": [
    "#Count Plot using Seaborn\n",
    "sns.countplot(od,y='Product',palette=\"Set1\" )\n",
    "plt.title('Count Plot of Products')"
   ]
  },
  {
   "cell_type": "code",
   "execution_count": 34,
   "id": "588e0efa",
   "metadata": {},
   "outputs": [
    {
     "data": {
      "image/png": "[encoded data removed]",
      "text/plain": [
       "<Figure size 1400x600 with 1 Axes>"
      ]
     },
     "metadata": {},
     "output_type": "display_data"
    }
   ],
   "source": [
    "#Bar chart\n",
    "plt.figure(figsize=(14,6))\n",
    "plt.bar(od['Product'],od['Revenue'],color='green')\n",
    "plt.xlabel('Product')\n",
    "plt.ylabel('Revenue')\n",
    "plt.title('Revenue Per Product Sold')\n",
    "plt.show()"
   ]
  },
  {
   "cell_type": "code",
   "execution_count": 35,
   "id": "1fc0f0a1",
   "metadata": {},
   "outputs": [
    {
     "data": {
      "image/png": "[encoded data removed]",
      "text/plain": [
       "<Figure size 1400x600 with 1 Axes>"
      ]
     },
     "metadata": {},
     "output_type": "display_data"
    }
   ],
   "source": [
    "#Bar chart\n",
    "plt.figure(figsize=(14,6))\n",
    "plt.bar(od['Product'],od['Units Sold'],color='chocolate')\n",
    "plt.xlabel('Product')\n",
    "plt.ylabel('Units Sold')\n",
    "plt.title('Product Per Units Sold')\n",
    "plt.show()"
   ]
  },
  {
   "cell_type": "code",
   "execution_count": 36,
   "id": "6ceb60ca",
   "metadata": {
    "scrolled": false
   },
   "outputs": [
    {
     "data": {
      "image/png": "[encoded data removed]",
      "text/plain": [
       "<Figure size 1400x600 with 1 Axes>"
      ]
     },
     "metadata": {},
     "output_type": "display_data"
    }
   ],
   "source": [
    "#Bar chart\n",
    "plt.figure(figsize=(14,6))\n",
    "plt.bar(od['Product'],od['Cost'],color='brown')\n",
    "plt.xlabel('Product')\n",
    "plt.ylabel('Cost')\n",
    "plt.title('Cost Per Product Sold')\n",
    "plt.show()"
   ]
  }
 ],
 "metadata": {
  "kernelspec": {
   "display_name": "Python 3 (ipykernel)",
   "language": "python",
   "name": "python3"
  },
  "language_info": {
   "codemirror_mode": {
    "name": "ipython",
    "version": 3
   },
   "file_extension": ".py",
   "mimetype": "text/x-python",
   "name": "python",
   "nbconvert_exporter": "python",
   "pygments_lexer": "ipython3",
   "version": "3.10.9"
  }
 },
 "nbformat": 4,
 "nbformat_minor": 5
}
